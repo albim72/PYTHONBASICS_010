{
 "cells":[
  {
   "cell_type":"code",
   "source":[
    "print(\"this is a first notebook\")\n",
    "a = 47\n",
    "b = 6.4\n",
    "c = a+b\n",
    "c #ipython structure(Jupyter Notebook) - explict printing values"
   ],
   "execution_count":7,
   "outputs":[
    {
     "name":"stdout",
     "text":[
      "this is a first notebook\n"
     ],
     "output_type":"stream"
    },
    {
     "data":{
      "text\/plain":[
       "53.4"
      ]
     },
     "metadata":{},
     "output_type":"display_data"
    }
   ],
   "metadata":{
    "datalore":{
     "node_id":"CkyygZ26WAOnZh4OBdJ3qj",
     "type":"CODE",
     "hide_input_from_viewers":true,
     "hide_output_from_viewers":true
    }
   }
  },
  {
   "cell_type":"code",
   "source":[
    "2.2 * c"
   ],
   "execution_count":8,
   "outputs":[
    {
     "data":{
      "text\/plain":[
       "117.48"
      ]
     },
     "metadata":{},
     "output_type":"display_data"
    }
   ],
   "metadata":{
    "datalore":{
     "node_id":"Mxh8T7wdEc2JROtGGd4RVt",
     "type":"CODE",
     "hide_input_from_viewers":true,
     "hide_output_from_viewers":true
    }
   }
  },
  {
   "cell_type":"markdown",
   "source":[
    "This is a testing **notebook** for <span style=\"color:red;font-size:16pt;\">Python<\/span>"
   ],
   "attachments":{},
   "metadata":{
    "datalore":{
     "node_id":"BIqkyy8odnVLYI5BBGKuho",
     "type":"MD",
     "hide_input_from_viewers":true,
     "hide_output_from_viewers":true
    }
   }
  },
  {
   "cell_type":"code",
   "source":[
    "itemnb = 8"
   ],
   "execution_count":12,
   "outputs":[
    {
     "data":{
      "application\/datalore_bound_expression_control_state+json":{
       "value":"8",
       "minValue":"1",
       "maxValue":"12",
       "step":"1"
      }
     },
     "metadata":{},
     "output_type":"display_data"
    }
   ],
   "metadata":{
    "datalore":{
     "node_id":"ojGeht8EPSiMRYnhayOw8L",
     "type":"CONTROL",
     "hide_input_from_viewers":true,
     "hide_output_from_viewers":true,
     "controls_state":[
      {
       "type":"SLIDER",
       "label":"item numbers",
       "variable":"itemnb",
       "value":"8",
       "min":"1",
       "max":"12",
       "step":"1",
       "minExpression":"1",
       "maxExpression":"12",
       "stepExpression":"1"
      }
     ]
    }
   }
  },
  {
   "cell_type":"code",
   "source":[
    "price = \"34.2\""
   ],
   "execution_count":14,
   "outputs":[],
   "metadata":{
    "datalore":{
     "node_id":"rkuF3T3wfGK5cLUqfnU2qO",
     "type":"CONTROL",
     "hide_input_from_viewers":true,
     "hide_output_from_viewers":true,
     "controls_state":[
      {
       "type":"INPUT",
       "label":"add price",
       "variable":"price",
       "value":"34.2",
       "multiline":false
      }
     ]
    }
   }
  },
  {
   "cell_type":"code",
   "source":[
    "itemnb*float(price)"
   ],
   "execution_count":16,
   "outputs":[
    {
     "data":{
      "text\/plain":[
       "273.6"
      ]
     },
     "metadata":{},
     "output_type":"display_data"
    }
   ],
   "metadata":{
    "datalore":{
     "node_id":"KVelnnroLCvy3VoNB3kEJg",
     "type":"RUN",
     "hide_input_from_viewers":true,
     "hide_output_from_viewers":true,
     "run_cell_properties":{
      "label":"Button",
      "showCode":false
     }
    }
   }
  },
  {
   "cell_type":"code",
   "source":[
    "import numpy as np\n",
    "import pandas as pd"
   ],
   "execution_count":17,
   "outputs":[],
   "metadata":{
    "datalore":{
     "node_id":"1294kw7kId08zxUGpAKVPK",
     "type":"CODE",
     "hide_input_from_viewers":true,
     "hide_output_from_viewers":true
    }
   }
  },
  {
   "cell_type":"code",
   "source":[
    "#create a numpy array of random numbers\n",
    "data = np.random.randint(10,100,size=(5,3))\n",
    "data"
   ],
   "execution_count":18,
   "outputs":[
    {
     "data":{
      "text\/html":[
       "<pre>array([[76, 70, 91],\n",
       "       [38, 64, 95],\n",
       "       [78, 35, 11],\n",
       "       [82, 91, 45],\n",
       "       [81, 89, 99]])<\/pre>"
      ]
     },
     "metadata":{},
     "output_type":"display_data"
    }
   ],
   "metadata":{
    "datalore":{
     "node_id":"QXhFTzhgzsqjS1otzszuUR",
     "type":"CODE",
     "hide_input_from_viewers":true,
     "hide_output_from_viewers":true
    }
   }
  },
  {
   "cell_type":"code",
   "source":[
    "#conversion to PAndas DataFrame\n",
    "df = pd.DataFrame(data,columns=[\"Sales_q1\",\"Sales_q2\",\"Sales_q3\"])\n",
    "df"
   ],
   "execution_count":19,
   "outputs":[
    {
     "data":{
      "text\/html":[
       "<div>\n",
       "<style scoped>\n",
       "    .dataframe tbody tr th:only-of-type {\n",
       "        vertical-align: middle;\n",
       "    }\n",
       "\n",
       "    .dataframe tbody tr th {\n",
       "        vertical-align: top;\n",
       "    }\n",
       "\n",
       "    .dataframe thead th {\n",
       "        text-align: right;\n",
       "    }\n",
       "<\/style>\n",
       "<table border=\"1\" class=\"dataframe\">\n",
       "  <thead>\n",
       "    <tr style=\"text-align: right;\">\n",
       "      <th><\/th>\n",
       "      <th>Sales_q1<\/th>\n",
       "      <th>Sales_q2<\/th>\n",
       "      <th>Sales_q3<\/th>\n",
       "    <\/tr>\n",
       "  <\/thead>\n",
       "  <tbody>\n",
       "    <tr>\n",
       "      <th>0<\/th>\n",
       "      <td>76<\/td>\n",
       "      <td>70<\/td>\n",
       "      <td>91<\/td>\n",
       "    <\/tr>\n",
       "    <tr>\n",
       "      <th>1<\/th>\n",
       "      <td>38<\/td>\n",
       "      <td>64<\/td>\n",
       "      <td>95<\/td>\n",
       "    <\/tr>\n",
       "    <tr>\n",
       "      <th>2<\/th>\n",
       "      <td>78<\/td>\n",
       "      <td>35<\/td>\n",
       "      <td>11<\/td>\n",
       "    <\/tr>\n",
       "    <tr>\n",
       "      <th>3<\/th>\n",
       "      <td>82<\/td>\n",
       "      <td>91<\/td>\n",
       "      <td>45<\/td>\n",
       "    <\/tr>\n",
       "    <tr>\n",
       "      <th>4<\/th>\n",
       "      <td>81<\/td>\n",
       "      <td>89<\/td>\n",
       "      <td>99<\/td>\n",
       "    <\/tr>\n",
       "  <\/tbody>\n",
       "<\/table>\n",
       "<\/div>"
      ]
     },
     "metadata":{},
     "output_type":"display_data"
    }
   ],
   "metadata":{
    "datalore":{
     "node_id":"D5tup6HLOAP66F1wYh5T7A",
     "type":"CODE",
     "hide_input_from_viewers":true,
     "hide_output_from_viewers":true
    }
   }
  },
  {
   "cell_type":"code",
   "source":[
    "print(type(data))\n",
    "print(type(df))"
   ],
   "execution_count":20,
   "outputs":[
    {
     "name":"stdout",
     "text":[
      "<class 'numpy.ndarray'>\n",
      "<class 'pandas.core.frame.DataFrame'>\n"
     ],
     "output_type":"stream"
    }
   ],
   "metadata":{
    "datalore":{
     "node_id":"TYkTgsVAKdtnju18O8kxdz",
     "type":"CODE",
     "hide_input_from_viewers":true,
     "hide_output_from_viewers":true
    }
   }
  },
  {
   "cell_type":"code",
   "source":[
    "#pandas basic operations\n",
    "print(f\"average per quater:\\n{df.mean()}\")"
   ],
   "execution_count":23,
   "outputs":[
    {
     "name":"stdout",
     "text":[
      "average per quater:\n",
      "Sales_q1    71.0\n",
      "Sales_q2    69.8\n",
      "Sales_q3    68.2\n",
      "dtype: float64\n"
     ],
     "output_type":"stream"
    }
   ],
   "metadata":{
    "datalore":{
     "node_id":"uk7LPFbiSkYO4CgkMH3Dbs",
     "type":"CODE",
     "hide_input_from_viewers":true,
     "hide_output_from_viewers":true
    }
   }
  },
  {
   "cell_type":"code",
   "source":[
    "print(f\"\\nTotal per row:\\n{df.sum(axis=1)}\")"
   ],
   "execution_count":25,
   "outputs":[
    {
     "name":"stdout",
     "text":[
      "\n",
      "Total per row:\n",
      "0    237\n",
      "1    197\n",
      "2    124\n",
      "3    218\n",
      "4    269\n",
      "dtype: int64\n"
     ],
     "output_type":"stream"
    }
   ],
   "metadata":{
    "datalore":{
     "node_id":"GcP0OzWlvMQRtOzRcaJndd",
     "type":"CODE",
     "hide_input_from_viewers":true,
     "hide_output_from_viewers":true
    }
   }
  },
  {
   "cell_type":"code",
   "source":[
    "print(\"\\nAdd a new column:\")\n",
    "df[\"Total\"] = df.sum(axis=1)\n",
    "df"
   ],
   "execution_count":27,
   "outputs":[
    {
     "name":"stdout",
     "text":[
      "\n",
      "Add a new column:\n"
     ],
     "output_type":"stream"
    },
    {
     "data":{
      "text\/html":[
       "<div>\n",
       "<style scoped>\n",
       "    .dataframe tbody tr th:only-of-type {\n",
       "        vertical-align: middle;\n",
       "    }\n",
       "\n",
       "    .dataframe tbody tr th {\n",
       "        vertical-align: top;\n",
       "    }\n",
       "\n",
       "    .dataframe thead th {\n",
       "        text-align: right;\n",
       "    }\n",
       "<\/style>\n",
       "<table border=\"1\" class=\"dataframe\">\n",
       "  <thead>\n",
       "    <tr style=\"text-align: right;\">\n",
       "      <th><\/th>\n",
       "      <th>Sales_q1<\/th>\n",
       "      <th>Sales_q2<\/th>\n",
       "      <th>Sales_q3<\/th>\n",
       "      <th>Total<\/th>\n",
       "    <\/tr>\n",
       "  <\/thead>\n",
       "  <tbody>\n",
       "    <tr>\n",
       "      <th>0<\/th>\n",
       "      <td>76<\/td>\n",
       "      <td>70<\/td>\n",
       "      <td>91<\/td>\n",
       "      <td>474<\/td>\n",
       "    <\/tr>\n",
       "    <tr>\n",
       "      <th>1<\/th>\n",
       "      <td>38<\/td>\n",
       "      <td>64<\/td>\n",
       "      <td>95<\/td>\n",
       "      <td>394<\/td>\n",
       "    <\/tr>\n",
       "    <tr>\n",
       "      <th>2<\/th>\n",
       "      <td>78<\/td>\n",
       "      <td>35<\/td>\n",
       "      <td>11<\/td>\n",
       "      <td>248<\/td>\n",
       "    <\/tr>\n",
       "    <tr>\n",
       "      <th>3<\/th>\n",
       "      <td>82<\/td>\n",
       "      <td>91<\/td>\n",
       "      <td>45<\/td>\n",
       "      <td>436<\/td>\n",
       "    <\/tr>\n",
       "    <tr>\n",
       "      <th>4<\/th>\n",
       "      <td>81<\/td>\n",
       "      <td>89<\/td>\n",
       "      <td>99<\/td>\n",
       "      <td>538<\/td>\n",
       "    <\/tr>\n",
       "  <\/tbody>\n",
       "<\/table>\n",
       "<\/div>"
      ]
     },
     "metadata":{},
     "output_type":"display_data"
    }
   ],
   "metadata":{
    "datalore":{
     "node_id":"9uTA2Ih7jcD6pktFIfwf5E",
     "type":"CODE",
     "hide_input_from_viewers":true,
     "hide_output_from_viewers":true
    }
   }
  },
  {
   "cell_type":"code",
   "source":[
    "print(\"\\nSort by total sales:\")\n",
    "print(df.sort_values(\"Total\",ascending=True))"
   ],
   "execution_count":29,
   "outputs":[
    {
     "name":"stdout",
     "text":[
      "\n",
      "Sort by total sales:\n",
      "   Sales_q1  Sales_q2  Sales_q3  Total\n",
      "2        78        35        11    248\n",
      "1        38        64        95    394\n",
      "3        82        91        45    436\n",
      "0        76        70        91    474\n",
      "4        81        89        99    538\n"
     ],
     "output_type":"stream"
    }
   ],
   "metadata":{
    "datalore":{
     "node_id":"RoaRxQZO91xFKWTahhWJB0",
     "type":"CODE",
     "hide_input_from_viewers":true,
     "hide_output_from_viewers":true
    }
   }
  }
 ],
 "metadata":{
  "kernelspec":{
   "display_name":"Python",
   "language":"python",
   "name":"python"
  },
  "datalore":{
   "computation_mode":"JUPYTER",
   "package_manager":"pip",
   "base_environment":"default_3_11",
   "packages":[],
   "report_row_ids":[],
   "report_tabs":[],
   "version":4
  }
 },
 "nbformat":4,
 "nbformat_minor":4
}